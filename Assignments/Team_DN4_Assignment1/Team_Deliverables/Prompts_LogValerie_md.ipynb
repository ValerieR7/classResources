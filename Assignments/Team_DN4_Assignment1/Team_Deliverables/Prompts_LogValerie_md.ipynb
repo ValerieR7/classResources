{
  "nbformat": 4,
  "nbformat_minor": 0,
  "metadata": {
    "colab": {
      "provenance": []
    },
    "kernelspec": {
      "name": "python3",
      "display_name": "Python 3"
    },
    "language_info": {
      "name": "python"
    }
  },
  "cells": [
    {
      "cell_type": "markdown",
      "source": [
        "# Prompts Log\n",
        "\n",
        "\n",
        "1. Please write me a query highligting the trend in sales month to month and please put one tick per month as I want every month present.\n",
        "\n",
        "2. Please write me a query to analyze how different discount levels affect sales and profit.\n",
        "\n",
        "3. Please write me a query to understand which subcategory has the highest sale over time."
      ],
      "metadata": {
        "id": "bOmDlD6-87w2"
      }
    }
  ]
}